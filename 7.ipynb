{
 "cells": [
  {
   "cell_type": "code",
   "execution_count": 2,
   "metadata": {},
   "outputs": [
    {
     "name": "stdout",
     "output_type": "stream",
     "text": [
      "语文平均成绩：82.60\n",
      "数学平均成绩：81.00\n",
      "英语平均成绩：81.80\n"
     ]
    }
   ],
   "source": [
    "import csv\n",
    "import time\n",
    "# 初始化各科成绩和总人数\n",
    "chinese_total=0\n",
    "math_total=0\n",
    "english_total=0\n",
    "student_total=0\n",
    "\n",
    "# 打开csv文件，读取学生成绩数据\n",
    "with open(\"stuGrade.csv\",mode='r',encoding='utf-8')as file:\n",
    "    reader=csv.reader(file)\n",
    "    # 跳过标题行\n",
    "    next(reader)\n",
    "    # 遍历剩余的每行\n",
    "    for row in reader:\n",
    "        # 累加各科成绩\n",
    "        chinese_total += int(row[1])\n",
    "        math_total += int(row[2])\n",
    "        english_total += int(row[3])\n",
    "        # 累加学生总数\n",
    "        student_total +=1\n",
    "\n",
    "#计算并输出各科平均值\n",
    "chinese_avg = chinese_total / student_total\n",
    "math_avg = math_total / student_total\n",
    "english_avg = english_total / student_total\n",
    "\n",
    "print(f\"语文平均成绩：{chinese_avg:.2f}\")\n",
    "print(f\"数学平均成绩：{math_avg:.2f}\")\n",
    "print(f\"英语平均成绩：{english_avg:.2f}\")\n",
    "\n",
    "# 打开txt文件，写入学生信息和成绩\n",
    "with open(\"my.txt\",mode='w',encoding='utf-8')as file:\n",
    "    # 定义学生信息\n",
    "    stuID='10235304408'\n",
    "    name='孙睿'\n",
    "    # 写入信息和成绩\n",
    "    file.write(f\"{stuID} {name}\\n\")\n",
    "    file.write(f\"{chinese_avg}, {math_avg}, {english_avg}\\n\")\n",
    "    # 获得当前时间，并写入文件\n",
    "    now = time.strftime(\"%Y-%m-%d %H:%M:%S\", time.localtime())\n",
    "    file.write(f\"{now}\\n\")\n",
    "    time.sleep(2)  # 等待2秒\n",
    "    # 再重复一遍上述过程\n",
    "    now = time.strftime(\"%Y-%m-%d %H:%M:%S\", time.localtime())\n",
    "    file.write(f\"{now}\\n\")\n",
    "\n",
    "\n"
   ]
  }
 ],
 "metadata": {
  "kernelspec": {
   "display_name": "Python 3",
   "language": "python",
   "name": "python3"
  },
  "language_info": {
   "codemirror_mode": {
    "name": "ipython",
    "version": 3
   },
   "file_extension": ".py",
   "mimetype": "text/x-python",
   "name": "python",
   "nbconvert_exporter": "python",
   "pygments_lexer": "ipython3",
   "version": "3.12.2"
  }
 },
 "nbformat": 4,
 "nbformat_minor": 2
}

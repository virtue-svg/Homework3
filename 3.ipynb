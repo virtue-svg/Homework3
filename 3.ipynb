{
 "cells": [
  {
   "cell_type": "code",
   "execution_count": 2,
   "metadata": {},
   "outputs": [
    {
     "name": "stdout",
     "output_type": "stream",
     "text": [
      "[1, 3, 5, 5, 6, 9]\n"
     ]
    }
   ],
   "source": [
    "# 插入排序\n",
    "def Selection_sort(a):\n",
    "    # 外层：每次比较会将剩余元素的最小值调到最前面\n",
    "    for i in range (len(a)-1):\n",
    "        # 将最小元素索引初始化为当前位置\n",
    "        min=i\n",
    "        # 内层：从当前位置向后遍历，找到最小元素的索引\n",
    "        for j in range(i+1,len(a)):\n",
    "            # 出现更小的元素时，更新索引\n",
    "            if a[j]<=a[min]:\n",
    "                min=j  \n",
    "        # 最终会得到当前元素向后的最小元素，将其与当前元素值交换         \n",
    "        a[i],a[min] = a[min],a[i]\n",
    "    # 返回排序好的数组\n",
    "    return a\n",
    "\n",
    "# 示例\n",
    "array=[1,3,9,6,5,5]\n",
    "sorted_array=Selection_sort(array)\n",
    "print(sorted_array)"
   ]
  }
 ],
 "metadata": {
  "kernelspec": {
   "display_name": "Python 3",
   "language": "python",
   "name": "python3"
  },
  "language_info": {
   "codemirror_mode": {
    "name": "ipython",
    "version": 3
   },
   "file_extension": ".py",
   "mimetype": "text/x-python",
   "name": "python",
   "nbconvert_exporter": "python",
   "pygments_lexer": "ipython3",
   "version": "3.12.2"
  }
 },
 "nbformat": 4,
 "nbformat_minor": 2
}

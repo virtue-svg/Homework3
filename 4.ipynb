{
 "cells": [
  {
   "cell_type": "code",
   "execution_count": 1,
   "metadata": {},
   "outputs": [
    {
     "name": "stdout",
     "output_type": "stream",
     "text": [
      "[-1, 2, 3, 5, 5, 6]\n"
     ]
    }
   ],
   "source": [
    "# 快速排序\n",
    "def quick_sort(data):  \n",
    "    # 当数组长度小于等于1时，无序排序  \n",
    "    if len(data) <=1:  \n",
    "        return data\n",
    "    else:   \n",
    "        # 将中间值作为基准\n",
    "        mid = data[len(data)//2]  \n",
    "        # 设置三个空列表，分别存放对应条件的元素       \n",
    "        left,right,middle = [],[],[]\n",
    "        # 遍历数组中每一个元素      \n",
    "        for num in data:    \n",
    "            # 大于初值的元素被划入right        \n",
    "            if num > mid:                \n",
    "                right.append(num) \n",
    "            # 小于初值的元素被划入left           \n",
    "            elif num < mid:                \n",
    "                left.append(num) \n",
    "            # 与初值相等的元素被划入middle \n",
    "            else:\n",
    "                middle.append(num) \n",
    "        # 对于left和right两个列表递归排序，最终返回的是一个排序好的完整数组    \n",
    "        return quick_sort(left) + middle + quick_sort(right) \n",
    "\n",
    "# 示例\n",
    "array = [3,-1,2,5,6,5]\n",
    "print(quick_sort(array))\n"
   ]
  },
  {
   "cell_type": "code",
   "execution_count": null,
   "metadata": {},
   "outputs": [],
   "source": []
  },
  {
   "cell_type": "code",
   "execution_count": 2,
   "metadata": {},
   "outputs": [
    {
     "ename": "TypeError",
     "evalue": "'function' object is not subscriptable",
     "output_type": "error",
     "traceback": [
      "\u001b[1;31m---------------------------------------------------------------------------\u001b[0m",
      "\u001b[1;31mTypeError\u001b[0m                                 Traceback (most recent call last)",
      "Cell \u001b[1;32mIn[2], line 16\u001b[0m\n\u001b[0;32m     13\u001b[0m         \u001b[38;5;28;01mreturn\u001b[39;00m a\n\u001b[0;32m     15\u001b[0m array\u001b[38;5;241m=\u001b[39m[\u001b[38;5;241m-\u001b[39m\u001b[38;5;241m1\u001b[39m,\u001b[38;5;241m2\u001b[39m,\u001b[38;5;241m4\u001b[39m,\u001b[38;5;241m5\u001b[39m,\u001b[38;5;241m5\u001b[39m,\u001b[38;5;241m6\u001b[39m]\n\u001b[1;32m---> 16\u001b[0m sorted_array\u001b[38;5;241m=\u001b[39m\u001b[43mquick_sort\u001b[49m\u001b[43m(\u001b[49m\u001b[43marray\u001b[49m\u001b[43m)\u001b[49m\n\u001b[0;32m     17\u001b[0m \u001b[38;5;28mprint\u001b[39m(sorted_array)\n",
      "Cell \u001b[1;32mIn[2], line 11\u001b[0m, in \u001b[0;36mquick_sort\u001b[1;34m(a)\u001b[0m\n\u001b[0;32m      9\u001b[0m         \u001b[38;5;28;01melse\u001b[39;00m:\n\u001b[0;32m     10\u001b[0m             left\u001b[38;5;241m.\u001b[39mappend(num)\n\u001b[1;32m---> 11\u001b[0m     \u001b[38;5;28;01mreturn\u001b[39;00m \u001b[43mquick_sort\u001b[49m\u001b[43m(\u001b[49m\u001b[43mleft\u001b[49m\u001b[43m)\u001b[49m\u001b[38;5;241m+\u001b[39m[mid]\u001b[38;5;241m+\u001b[39mquick_sort[right]\n\u001b[0;32m     12\u001b[0m \u001b[38;5;28;01melse\u001b[39;00m:\n\u001b[0;32m     13\u001b[0m     \u001b[38;5;28;01mreturn\u001b[39;00m a\n",
      "Cell \u001b[1;32mIn[2], line 11\u001b[0m, in \u001b[0;36mquick_sort\u001b[1;34m(a)\u001b[0m\n\u001b[0;32m      9\u001b[0m         \u001b[38;5;28;01melse\u001b[39;00m:\n\u001b[0;32m     10\u001b[0m             left\u001b[38;5;241m.\u001b[39mappend(num)\n\u001b[1;32m---> 11\u001b[0m     \u001b[38;5;28;01mreturn\u001b[39;00m quick_sort(left)\u001b[38;5;241m+\u001b[39m[mid]\u001b[38;5;241m+\u001b[39m\u001b[43mquick_sort\u001b[49m\u001b[43m[\u001b[49m\u001b[43mright\u001b[49m\u001b[43m]\u001b[49m\n\u001b[0;32m     12\u001b[0m \u001b[38;5;28;01melse\u001b[39;00m:\n\u001b[0;32m     13\u001b[0m     \u001b[38;5;28;01mreturn\u001b[39;00m a\n",
      "\u001b[1;31mTypeError\u001b[0m: 'function' object is not subscriptable"
     ]
    }
   ],
   "source": [
    "def quick_sort(a):\n",
    "    if len(a) >=2:\n",
    "        mid=a[len(a)//2]\n",
    "        left,right=[],[]\n",
    "        a.remove(mid)\n",
    "        for num in a:\n",
    "            if num>=mid:\n",
    "                right.append(num)\n",
    "            else:\n",
    "                left.append(num)\n",
    "        return quick_sort(left)+[mid]+quick_sort[right]\n",
    "    else:\n",
    "        return a\n",
    "\n",
    "array=[-1,2,4,5,5,6]\n",
    "sorted_array=quick_sort(array)\n",
    "print(sorted_array)\n",
    "\n"
   ]
  }
 ],
 "metadata": {
  "kernelspec": {
   "display_name": "Python 3",
   "language": "python",
   "name": "python3"
  },
  "language_info": {
   "codemirror_mode": {
    "name": "ipython",
    "version": 3
   },
   "file_extension": ".py",
   "mimetype": "text/x-python",
   "name": "python",
   "nbconvert_exporter": "python",
   "pygments_lexer": "ipython3",
   "version": "3.12.2"
  }
 },
 "nbformat": 4,
 "nbformat_minor": 2
}

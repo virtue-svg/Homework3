{
 "cells": [
  {
   "cell_type": "code",
   "execution_count": 2,
   "metadata": {},
   "outputs": [
    {
     "name": "stdout",
     "output_type": "stream",
     "text": [
      "[-1, 3, 5, 6, 9]\n"
     ]
    }
   ],
   "source": [
    "# 插入排序\n",
    "def Insertion_sort(a):\n",
    "    # 从数组的第二个元素开始遍历，因为第一个元素默认是已排序的\n",
    "    for i in range(1,len(a)):\n",
    "        # 提取当前要插入的元素\n",
    "        key=a[i]\n",
    "        # 假定前面i-1个元素已经从小到大排序好，将索引初始化为前一个元素，用于从后往前比较\n",
    "        j=i-1\n",
    "        # 当遍历未结束时，比较大小，插入元素\n",
    "        while j>=0 and a[j]>key:\n",
    "            # 将更大的元素向后移动一位，腾出插入的空间，并继续向前比较\n",
    "            a[j+1]=a[j]\n",
    "            j=j-1\n",
    "        # 当遇到第一个更小或相等的元素时，插入到被腾出的前一位\n",
    "        a[j+1]=key\n",
    "    # 返回排序好的数组\n",
    "    return a\n",
    "\n",
    "# 示例\n",
    "array=[-1,3,9,6,5]\n",
    "sorted_array=Insertion_sort(array)\n",
    "print(sorted_array)\n",
    "\n",
    "\n",
    "        \n",
    "\n",
    "\n",
    "        \n"
   ]
  }
 ],
 "metadata": {
  "kernelspec": {
   "display_name": "Python 3",
   "language": "python",
   "name": "python3"
  },
  "language_info": {
   "codemirror_mode": {
    "name": "ipython",
    "version": 3
   },
   "file_extension": ".py",
   "mimetype": "text/x-python",
   "name": "python",
   "nbconvert_exporter": "python",
   "pygments_lexer": "ipython3",
   "version": "3.12.2"
  }
 },
 "nbformat": 4,
 "nbformat_minor": 2
}

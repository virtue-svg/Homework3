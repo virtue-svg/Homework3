{
 "cells": [
  {
   "cell_type": "code",
   "execution_count": 3,
   "metadata": {},
   "outputs": [
    {
     "name": "stdout",
     "output_type": "stream",
     "text": [
      "格式化的当前时间： 2024-10-17 14:58:26\n"
     ]
    }
   ],
   "source": [
    "import time\n",
    "\n",
    "# 获取当前时间\n",
    "now = time.localtime()\n",
    "\n",
    "# 格式化时间输出，年-月-天-时-分-秒\n",
    "date_time_format = time.strftime(\"%Y-%m-%d %H:%M:%S\")\n",
    "print(\"格式化的当前时间：\", date_time_format)"
   ]
  }
 ],
 "metadata": {
  "kernelspec": {
   "display_name": "Python 3",
   "language": "python",
   "name": "python3"
  },
  "language_info": {
   "codemirror_mode": {
    "name": "ipython",
    "version": 3
   },
   "file_extension": ".py",
   "mimetype": "text/x-python",
   "name": "python",
   "nbconvert_exporter": "python",
   "pygments_lexer": "ipython3",
   "version": "3.12.2"
  }
 },
 "nbformat": 4,
 "nbformat_minor": 2
}

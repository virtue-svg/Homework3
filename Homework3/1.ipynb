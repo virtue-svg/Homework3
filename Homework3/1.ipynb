{
 "cells": [
  {
   "cell_type": "code",
   "execution_count": 9,
   "metadata": {},
   "outputs": [
    {
     "name": "stdout",
     "output_type": "stream",
     "text": [
      "11是质数\n"
     ]
    }
   ],
   "source": [
    "import math\n",
    "\n",
    "def prime(x):\n",
    "    # 小于2的数不是质数\n",
    "    if x<2:\n",
    "        return False\n",
    "    # 从2到sqrt(x)遍历\n",
    "    for i in range(2,int(math.sqrt(x))+1):\n",
    "        # 若能被其中一个数整除，则不是质数\n",
    "        if x%i==0:\n",
    "            return False\n",
    "    return True\n",
    "\n",
    "a=int(input(\"请输入一个正整数：\"))\n",
    "\n",
    "if prime(a):\n",
    "    print(f\"{a}是质数\")\n",
    "else:\n",
    "    print(f\"{a}不是质数\")"
   ]
  }
 ],
 "metadata": {
  "kernelspec": {
   "display_name": "Python 3",
   "language": "python",
   "name": "python3"
  },
  "language_info": {
   "codemirror_mode": {
    "name": "ipython",
    "version": 3
   },
   "file_extension": ".py",
   "mimetype": "text/x-python",
   "name": "python",
   "nbconvert_exporter": "python",
   "pygments_lexer": "ipython3",
   "version": "3.12.2"
  }
 },
 "nbformat": 4,
 "nbformat_minor": 2
}
